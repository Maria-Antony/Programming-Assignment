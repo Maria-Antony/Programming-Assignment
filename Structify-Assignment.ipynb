{
 "cells": [
  {
   "cell_type": "code",
   "execution_count": 33,
   "metadata": {},
   "outputs": [
    {
     "name": "stdout",
     "output_type": "stream",
     "text": [
      "0\n"
     ]
    }
   ],
   "source": [
    "def count_intersections(radians, identifiers):\n",
    "    starts = []\n",
    "    ends = []\n",
    "    for i in range(len(radians)):\n",
    "        if radians[i]<6.28 and radians[i]>0:\n",
    "            if 's' in identifiers[i]:\n",
    "                starts.append([radians[i],identifiers[i]])\n",
    "            else:\n",
    "                ends.append([radians[i],identifiers[i]])\n",
    "    \n",
    "    starts.sort(key=lambda x: (x, x))\n",
    "    ends.sort(key=lambda x: (x, x))\n",
    "\n",
    "    intersections = 0\n",
    "\n",
    "    for i in range(0,len(starts)):\n",
    "        if i!=len(starts)-1:\n",
    "            if ends[i][0]>starts[i+1][0]>starts[i][0] and ends[i+1][0]>ends[i][0]:\n",
    "                intersections +=1\n",
    "    return intersections\n",
    "\n",
    "radians = [0.9,1.3,1.7,2.92]\n",
    "identifiers = [\"s_1\", \"e_1\", \"s_2\", \"e_2\"]\n",
    "result = count_intersections(radians, identifiers)\n",
    "print(result)"
   ]
  },
  {
   "cell_type": "code",
   "execution_count": null,
   "metadata": {},
   "outputs": [],
   "source": []
  }
 ],
 "metadata": {
  "kernelspec": {
   "display_name": "Fund_AI",
   "language": "python",
   "name": "python3"
  },
  "language_info": {
   "codemirror_mode": {
    "name": "ipython",
    "version": 3
   },
   "file_extension": ".py",
   "mimetype": "text/x-python",
   "name": "python",
   "nbconvert_exporter": "python",
   "pygments_lexer": "ipython3",
   "version": "3.9.6"
  }
 },
 "nbformat": 4,
 "nbformat_minor": 2
}
